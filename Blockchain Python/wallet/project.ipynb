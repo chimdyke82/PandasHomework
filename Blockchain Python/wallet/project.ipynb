{
 "cells": [
  {
   "cell_type": "code",
   "execution_count": 56,
   "metadata": {},
   "outputs": [],
   "source": [
    "# Import dependencies\n",
    "import subprocess\n",
    "import json\n",
    "from dotenv import load_dotenv\n",
    "import os\n",
    "from pprint import pprint\n",
    "from bit import PrivateKeyTestnet\n",
    "from bit.network import NetworkAPI\n",
    "from web3 import Web3, middleware, Account\n",
    "from web3.gas_strategies.time_based import medium_gas_price_strategy\n",
    "from web3.middleware import geth_poa_middleware"
   ]
  },
  {
   "cell_type": "code",
   "execution_count": 57,
   "metadata": {},
   "outputs": [
    {
     "name": "stdout",
     "output_type": "stream",
     "text": [
      "project gate huge warrior onion laugh canvas step couple develop ready design\n"
     ]
    }
   ],
   "source": [
    "# Load and set environment variables\n",
    "load_dotenv(\"mnemonic.env\")\n",
    "mnemonic=os.getenv(\"mnemonic\")\n",
    "print(mnemonic)"
   ]
  },
  {
   "cell_type": "code",
   "execution_count": 58,
   "metadata": {},
   "outputs": [],
   "source": [
    "w3 = Web3(Web3.HTTPProvider('http://localhost:8545'))\n",
    "# enable PoA middleware\n",
    "w3.middleware_onion.inject(geth_poa_middleware, layer=0)\n",
    "w3.eth.setGasPriceStrategy(medium_gas_price_strategy)"
   ]
  },
  {
   "cell_type": "code",
   "execution_count": 59,
   "metadata": {},
   "outputs": [],
   "source": [
    "# Import constants.py and necessary functions from bit and web3\n",
    "from constants import *"
   ]
  },
  {
   "cell_type": "code",
   "execution_count": 60,
   "metadata": {},
   "outputs": [],
   "source": [
    "# Create a function called `derive_wallets`\n",
    "def derive_wallets(coin=BTC, mnemonic=mnemonic, depth=3):\n",
    "    command = f'php ./derive -g --mnemonic=\"{mnemonic}\" --cols=all --coin={coin} --numderive={depth} --format=json'\n",
    "    p = subprocess.Popen(command, stdout=subprocess.PIPE, shell=True)\n",
    "    output, err = p.communicate()\n",
    "    p_status = p.wait()\n",
    "    return json.loads(output)"
   ]
  },
  {
   "cell_type": "code",
   "execution_count": 61,
   "metadata": {},
   "outputs": [
    {
     "name": "stdout",
     "output_type": "stream",
     "text": [
      "{'btc-test': [{'address': 'n2aRdRsyRrpNjm61E4fwQaX8frW229G5aW',\n",
      "               'index': 0,\n",
      "               'path': \"m/44'/1'/0'/0/0\",\n",
      "               'privkey': 'cW4w1MKbListtqS9bhTZ3WXpLBLm1H4373V2JVD5ACSpUV7rSGva',\n",
      "               'pubkey': '0210c67cf2eb222131ae9b841b30e84b23c6f78a4a382b42fc4e802fbeb2b6e856',\n",
      "               'pubkeyhash': 'e702b4e8801284cd337ed47a2e2d849b8bda75cb',\n",
      "               'xprv': 'tprv8k44gLMBDKFkSCCB2jTjBH76amsvBK7RPQY9XyvVzZWEZUjHLM8VHJ5DeneDA3DVm4UUozv9q1w6N8zZLiQqBj7CGh5BDFXQWmLY1ie2Vxr',\n",
      "               'xpub': 'tpubDGk6pkPRMgwRKfDxvP8KagmD9oPrLeJKxi8vpVxoQqJdPxz3xjx5Tnh5psnyQcGiMLw19fHZFdtaJoZfVHrxurfMeG3NiGM8hAvbj66FNyh'},\n",
      "              {'address': 'mp5cy6Ve1yjn9P3kf1mvzEAfniTEwCDcKu',\n",
      "               'index': 1,\n",
      "               'path': \"m/44'/1'/0'/0/1\",\n",
      "               'privkey': 'cQowjTfaTw8oXsQPJhWEBz7YCuVRRzaNQYun8LJTgYAQAKzGdQK2',\n",
      "               'pubkey': '027f387b66b24517bc95c4a02482581191d00e49640a62e8246d17bde0db90e1d6',\n",
      "               'pubkeyhash': '5dee99893c6db8318f19b3a07d4143829ba09a06',\n",
      "               'xprv': 'tprv8k44gLMBDKFkWf2kRP8hhE6unt5u8wF9mtBb7h3RW81u1d8C4Gc3PJt6aGwHhLW6t2dapkPJDxZeVR56rk2VNBuN5UaRCmZX3Car8WSJCQf',\n",
      "               'xpub': 'tpubDGk6pkPRMgwRQ84YK2oJ6dm2MubqJGS4MBnNQD5ivPpHr7NxgfRdZoVxkQ7nrGbhFgMVziHFh9d7nvYTgW3MeyuMXhdXgC6dWcHzpycNtPx'},\n",
      "              {'address': 'miYsDnKmUQTVBzsrmCrwBX2yZ2hBnKE9GF',\n",
      "               'index': 2,\n",
      "               'path': \"m/44'/1'/0'/0/2\",\n",
      "               'privkey': 'cRB2KXT3RXke37LTaQvCPvNytQN1aGXtdZtDPaEjWaBK5LMV15d6',\n",
      "               'pubkey': '0302224079729b0bc1bdc81c101a1724a3d2ea5bff83189485b2d5689077832fec',\n",
      "               'pubkeyhash': '2144f95857e6f9186d75be9278c5343a2a9cd434',\n",
      "               'xprv': 'tprv8k44gLMBDKFkZBGHVH6gF5QdmeuZc8QKKuATBc8J3tyVHCtPU1ZCUev71wWQBKynytzKk5fAYdosrNpPh3z7N1GAP7W9vYM9kgmTHeJwoku',\n",
      "               'xpub': 'tpubDGk6pkPRMgwRSeJ5NvmGeV4kLgRVmTbDuCmEU8AbUAmt7h9A6QNnf9XyC5bnLm3ZpV1dUR5Dso3R954nzvjiJsmVctNS1xPBCg6AmsC6u2z'}],\n",
      " 'eth': [{'address': '0x95cF9743d59351E53B46b5c56cD7dBB7140565bA',\n",
      "          'index': 0,\n",
      "          'path': \"m/44'/60'/0'/0/0\",\n",
      "          'privkey': '0x0eb549a7cadb841d7b2ac3f7a6e688ca49220a1a8c5c30f4e28dac3e99eb31f5',\n",
      "          'pubkey': '02b3f5a53b8125a5285af465cf1fdccbc5e944a5b8dc001396042f01b7a47c901b',\n",
      "          'pubkeyhash': '76e028b7cdd8a8934bee60692e55663171717685',\n",
      "          'xprv': 'xprvA39eLGmcUWaE7RicwPSji6w5aCLpA2EWNzTao75r3rdBtn16znbsWPza1jc3ehWqwZ2EL5uLuSCwEbW68mhYGLzvzryGoM2UB17DEdMbQQk',\n",
      "          'xpub': 'xpub6G8zjnJWJt8XKuo63Qyk5Esp8EBJZUxMkDPBbVVTcCAAmaLFYKv84CK3s1tbDbafLmEXGWC85qUBnE5h6oy54PrQuDboLL1hkP4i8jHD9fv'},\n",
      "         {'address': '0xd9E81FD2f9b8F7db0fbbfAB323cD7240daC2eA05',\n",
      "          'index': 1,\n",
      "          'path': \"m/44'/60'/0'/0/1\",\n",
      "          'privkey': '0x0e3ef748e9892589c416b69a9c9843f973d6c4eba89ef225d3448cc32ef4a8e6',\n",
      "          'pubkey': '03bfce00b44b0a73d4fc945169da3a9fc8407b805826e37c4fd9e6ce4609900fbd',\n",
      "          'pubkeyhash': '76e6307e31e8bc6e0970be682fca21f315f0efad',\n",
      "          'xprv': 'xprvA39eLGmcUWaEAsroXGaeNGhHz3wfT74QkwmNUvSwWK2xBYH1vvA6zRsCnejtr8BuaEFF5K5D3jzhAc3u7wVmwRrxqiaY14zyZVpHqN15nyL',\n",
      "          'xpub': 'xpub6G8zjnJWJt8XPMwGdJ7ejQe2Y5n9rZnG8AgyHJrZ4eZw4LcAUTUMYEBgdy4bxyULHPfioiYYJdiv2A3pLBmXGo7y7xKykicrx2abRqVs7oc'},\n",
      "         {'address': '0x46982afe9E27B6d5d543F8CD242e8f70d3F30A49',\n",
      "          'index': 2,\n",
      "          'path': \"m/44'/60'/0'/0/2\",\n",
      "          'privkey': '0xd16f4cb8c7c126dd31113badb700b130fd0666f0af8e99257b8c92fbf7fd834e',\n",
      "          'pubkey': '034962ae42a017d395b9234cd4f1c206a7f96547456be37e21bb0e2f608e0ab531',\n",
      "          'pubkeyhash': 'e7aa0fc2d39eda7ff97114227dda5bcaf0c5aa5f',\n",
      "          'xprv': 'xprvA39eLGmcUWaEEP8TLK3LXcZhZ6dK1mEoXzQNqEGkkrjQhDiSGraQmkbHNkC6cAEEUwpDaNKSFLfvQTifJ6sz4wPHLBmZpyP82FZQWuP7gJW',\n",
      "          'xpub': 'xpub6G8zjnJWJt8XSsCvSLaLtkWS78ToRDxeuDKydcgNKCGPa23apPtfKYumE28h2dPmEPuS1DQhWrU7VoktDuD1ArMz7CYABs5qvNuxjzNhuUZ'}]}\n"
     ]
    }
   ],
   "source": [
    "# Create a dictionary object called coins to store the output from `derive_wallets`.\n",
    "coins = {\n",
    "    ETH: derive_wallets(coin=ETH),\n",
    "    BTCTEST: derive_wallets(coin=BTCTEST),\n",
    "}\n",
    "\n",
    "pprint(coins)\n",
    "#print(coins[\"eth\"][0]['privkey'])"
   ]
  },
  {
   "cell_type": "code",
   "execution_count": 15,
   "metadata": {},
   "outputs": [],
   "source": [
    "# Create a function called `priv_key_to_account` that converts privkey strings to account objects.\n",
    "def priv_key_to_account(coin, priv_key):\n",
    "    if coin == ETH:\n",
    "        return Account.privateKeyToAccount(priv_key)\n",
    "    if coin == BTCTEST:\n",
    "        return PrivateKeyTestnet(priv_key)"
   ]
  },
  {
   "cell_type": "code",
   "execution_count": 54,
   "metadata": {},
   "outputs": [
    {
     "name": "stdout",
     "output_type": "stream",
     "text": [
      "<eth_account.signers.local.LocalAccount object at 0x000002184DBF5548>\n"
     ]
    }
   ],
   "source": [
    "eth_acc = priv_key_to_account(ETH, \"0x0eb549a7cadb841d7b2ac3f7a6e688ca49220a1a8c5c30f4e28dac3e99eb31f5\")\n",
    "print(eth_acc)"
   ]
  },
  {
   "cell_type": "code",
   "execution_count": 52,
   "metadata": {},
   "outputs": [],
   "source": [
    "# Create a function called `create_tx` that creates an unsigned transaction appropriate metadata.\n",
    "def create_tx(coin, account, to, amount):\n",
    "    global trx_data\n",
    "    if coin == ETH:\n",
    "        value = w3.toWei(amount, \"ether\") # convert ETH to wei\n",
    "        gasEstimate = w3.eth.estimateGas(\n",
    "            {\"from\": account, \"to\": to, \"amount\": value }\n",
    "        )\n",
    "        trx_data = {\n",
    "            \"to\": to,\n",
    "            \"from\": account,\n",
    "            \"amount\": value,\n",
    "            \"gasPrice\": w3.eth.gasPrice,\n",
    "            \"gas\": gasEstimate,\n",
    "            \"nonce\": w3.eth.getTransactionCount(account),\n",
    "            \"chainId\": w3.eth.chain_id\n",
    "        }\n",
    "        return trx_data\n",
    "\n",
    "    if coin == BTCTEST:\n",
    "        return PrivateKeyTestnet.prepare_transaction(account.address, [(to, amount, BTC)])\n"
   ]
  },
  {
   "cell_type": "code",
   "execution_count": 39,
   "metadata": {},
   "outputs": [],
   "source": [
    "# Create a function called `send_tx` that calls `create_tx`, signs and sends the transaction.\n",
    "def send_tx(coin, account, to, amount):\n",
    "    if coin == ETH:\n",
    "        tx = create_tx(coin, account, to, amount)\n",
    "        signed_tx = account.sign_transaction(tx)\n",
    "        return w3.eth.sendRawTransaction(signed_tx.rawTransaction)\n",
    "       \n",
    "    \n",
    "    if coin == BTCTEST:\n",
    "        tx = create_tx(coin, account, to, amount)\n",
    "        signed_tx = account.sign_transaction(tx)\n",
    "        return NetworkAPI.broadcast_tx_testnet(signed_tx)\n",
    "      "
   ]
  },
  {
   "cell_type": "code",
   "execution_count": 55,
   "metadata": {},
   "outputs": [],
   "source": [
    "account = priv_key_to_account(BTCTEST, coins[BTCTEST][0]['privkey'])"
   ]
  },
  {
   "cell_type": "code",
   "execution_count": 49,
   "metadata": {},
   "outputs": [
    {
     "ename": "InsufficientFunds",
     "evalue": "Balance 844 is less than 33052 (including fee).",
     "output_type": "error",
     "traceback": [
      "\u001b[1;31m---------------------------------------------------------------------------\u001b[0m",
      "\u001b[1;31mInsufficientFunds\u001b[0m                         Traceback (most recent call last)",
      "\u001b[1;32m<ipython-input-49-acc6c0e8abc1>\u001b[0m in \u001b[0;36m<module>\u001b[1;34m\u001b[0m\n\u001b[1;32m----> 1\u001b[1;33m \u001b[0msend_tx\u001b[0m\u001b[1;33m(\u001b[0m\u001b[0mBTCTEST\u001b[0m\u001b[1;33m,\u001b[0m \u001b[0maccount\u001b[0m\u001b[1;33m,\u001b[0m \u001b[1;34m'mp5cy6Ve1yjn9P3kf1mvzEAfniTEwCDcKu'\u001b[0m\u001b[1;33m,\u001b[0m \u001b[1;34m'0.0001'\u001b[0m\u001b[1;33m)\u001b[0m\u001b[1;33m\u001b[0m\u001b[1;33m\u001b[0m\u001b[0m\n\u001b[0m",
      "\u001b[1;32m<ipython-input-39-047b106622b0>\u001b[0m in \u001b[0;36msend_tx\u001b[1;34m(coin, account, to, amount)\u001b[0m\n\u001b[0;32m      8\u001b[0m \u001b[1;33m\u001b[0m\u001b[0m\n\u001b[0;32m      9\u001b[0m     \u001b[1;32mif\u001b[0m \u001b[0mcoin\u001b[0m \u001b[1;33m==\u001b[0m \u001b[0mBTCTEST\u001b[0m\u001b[1;33m:\u001b[0m\u001b[1;33m\u001b[0m\u001b[1;33m\u001b[0m\u001b[0m\n\u001b[1;32m---> 10\u001b[1;33m         \u001b[0mtx\u001b[0m \u001b[1;33m=\u001b[0m \u001b[0mcreate_tx\u001b[0m\u001b[1;33m(\u001b[0m\u001b[0mcoin\u001b[0m\u001b[1;33m,\u001b[0m \u001b[0maccount\u001b[0m\u001b[1;33m,\u001b[0m \u001b[0mto\u001b[0m\u001b[1;33m,\u001b[0m \u001b[0mamount\u001b[0m\u001b[1;33m)\u001b[0m\u001b[1;33m\u001b[0m\u001b[1;33m\u001b[0m\u001b[0m\n\u001b[0m\u001b[0;32m     11\u001b[0m         \u001b[0msigned_tx\u001b[0m \u001b[1;33m=\u001b[0m \u001b[0maccount\u001b[0m\u001b[1;33m.\u001b[0m\u001b[0msign_transaction\u001b[0m\u001b[1;33m(\u001b[0m\u001b[0mtx\u001b[0m\u001b[1;33m)\u001b[0m\u001b[1;33m\u001b[0m\u001b[1;33m\u001b[0m\u001b[0m\n\u001b[0;32m     12\u001b[0m         \u001b[1;32mreturn\u001b[0m \u001b[0mNetworkAPI\u001b[0m\u001b[1;33m.\u001b[0m\u001b[0mbroadcast_tx_testnet\u001b[0m\u001b[1;33m(\u001b[0m\u001b[0msigned_tx\u001b[0m\u001b[1;33m)\u001b[0m\u001b[1;33m\u001b[0m\u001b[1;33m\u001b[0m\u001b[0m\n",
      "\u001b[1;32m<ipython-input-20-dec797b1182b>\u001b[0m in \u001b[0;36mcreate_tx\u001b[1;34m(coin, account, to, amount)\u001b[0m\n\u001b[0;32m     19\u001b[0m \u001b[1;33m\u001b[0m\u001b[0m\n\u001b[0;32m     20\u001b[0m     \u001b[1;32mif\u001b[0m \u001b[0mcoin\u001b[0m \u001b[1;33m==\u001b[0m \u001b[0mBTCTEST\u001b[0m\u001b[1;33m:\u001b[0m\u001b[1;33m\u001b[0m\u001b[1;33m\u001b[0m\u001b[0m\n\u001b[1;32m---> 21\u001b[1;33m         \u001b[1;32mreturn\u001b[0m \u001b[0mPrivateKeyTestnet\u001b[0m\u001b[1;33m.\u001b[0m\u001b[0mprepare_transaction\u001b[0m\u001b[1;33m(\u001b[0m\u001b[0maccount\u001b[0m\u001b[1;33m.\u001b[0m\u001b[0maddress\u001b[0m\u001b[1;33m,\u001b[0m \u001b[1;33m[\u001b[0m\u001b[1;33m(\u001b[0m\u001b[0mto\u001b[0m\u001b[1;33m,\u001b[0m \u001b[0mamount\u001b[0m\u001b[1;33m,\u001b[0m \u001b[0mBTC\u001b[0m\u001b[1;33m)\u001b[0m\u001b[1;33m]\u001b[0m\u001b[1;33m)\u001b[0m\u001b[1;33m\u001b[0m\u001b[1;33m\u001b[0m\u001b[0m\n\u001b[0m",
      "\u001b[1;32m~\\Anaconda3\\envs\\pyvizenv\\lib\\site-packages\\bit\\wallet.py\u001b[0m in \u001b[0;36mprepare_transaction\u001b[1;34m(cls, address, outputs, compressed, fee, absolute_fee, leftover, combine, message, unspents, message_is_hex, replace_by_fee)\u001b[0m\n\u001b[0;32m    850\u001b[0m             \u001b[0mversion\u001b[0m\u001b[1;33m=\u001b[0m\u001b[1;34m'test'\u001b[0m\u001b[1;33m,\u001b[0m\u001b[1;33m\u001b[0m\u001b[1;33m\u001b[0m\u001b[0m\n\u001b[0;32m    851\u001b[0m             \u001b[0mmessage_is_hex\u001b[0m\u001b[1;33m=\u001b[0m\u001b[0mmessage_is_hex\u001b[0m\u001b[1;33m,\u001b[0m\u001b[1;33m\u001b[0m\u001b[1;33m\u001b[0m\u001b[0m\n\u001b[1;32m--> 852\u001b[1;33m             \u001b[0mreplace_by_fee\u001b[0m\u001b[1;33m=\u001b[0m\u001b[0mreplace_by_fee\u001b[0m\u001b[1;33m\u001b[0m\u001b[1;33m\u001b[0m\u001b[0m\n\u001b[0m\u001b[0;32m    853\u001b[0m         )\n\u001b[0;32m    854\u001b[0m \u001b[1;33m\u001b[0m\u001b[0m\n",
      "\u001b[1;32m~\\Anaconda3\\envs\\pyvizenv\\lib\\site-packages\\bit\\transaction.py\u001b[0m in \u001b[0;36msanitize_tx_data\u001b[1;34m(unspents, outputs, fee, leftover, combine, message, compressed, absolute_fee, min_change, version, message_is_hex, replace_by_fee)\u001b[0m\n\u001b[0;32m    432\u001b[0m         \u001b[0mabsolute_fee\u001b[0m\u001b[1;33m=\u001b[0m\u001b[0mabsolute_fee\u001b[0m\u001b[1;33m,\u001b[0m\u001b[1;33m\u001b[0m\u001b[1;33m\u001b[0m\u001b[0m\n\u001b[0;32m    433\u001b[0m         \u001b[0mconsolidate\u001b[0m\u001b[1;33m=\u001b[0m\u001b[0mcombine\u001b[0m\u001b[1;33m,\u001b[0m\u001b[1;33m\u001b[0m\u001b[1;33m\u001b[0m\u001b[0m\n\u001b[1;32m--> 434\u001b[1;33m         \u001b[0munspents\u001b[0m\u001b[1;33m=\u001b[0m\u001b[0munspents\u001b[0m\u001b[1;33m,\u001b[0m\u001b[1;33m\u001b[0m\u001b[1;33m\u001b[0m\u001b[0m\n\u001b[0m\u001b[0;32m    435\u001b[0m     )\n\u001b[0;32m    436\u001b[0m \u001b[1;33m\u001b[0m\u001b[0m\n",
      "\u001b[1;32m~\\Anaconda3\\envs\\pyvizenv\\lib\\site-packages\\bit\\transaction.py\u001b[0m in \u001b[0;36mselect_coins\u001b[1;34m(target, fee, output_size, min_change, absolute_fee, consolidate, unspents)\u001b[0m\n\u001b[0;32m    326\u001b[0m             raise InsufficientFunds(\n\u001b[0;32m    327\u001b[0m                 \u001b[1;34m'Balance {} is less than {} (including '\u001b[0m\u001b[1;33m\u001b[0m\u001b[1;33m\u001b[0m\u001b[0m\n\u001b[1;32m--> 328\u001b[1;33m                 \u001b[1;34m'fee).'\u001b[0m\u001b[1;33m.\u001b[0m\u001b[0mformat\u001b[0m\u001b[1;33m(\u001b[0m\u001b[0msum\u001b[0m\u001b[1;33m(\u001b[0m\u001b[0mu\u001b[0m\u001b[1;33m.\u001b[0m\u001b[0mamount\u001b[0m \u001b[1;32mfor\u001b[0m \u001b[0mu\u001b[0m \u001b[1;32min\u001b[0m \u001b[0mselected_coins\u001b[0m\u001b[1;33m)\u001b[0m\u001b[1;33m,\u001b[0m \u001b[0mtarget\u001b[0m \u001b[1;33m+\u001b[0m \u001b[0mmin_change\u001b[0m \u001b[1;33m+\u001b[0m \u001b[0mestimated_fee\u001b[0m\u001b[1;33m)\u001b[0m\u001b[1;33m\u001b[0m\u001b[1;33m\u001b[0m\u001b[0m\n\u001b[0m\u001b[0;32m    329\u001b[0m             )\n\u001b[0;32m    330\u001b[0m \u001b[1;33m\u001b[0m\u001b[0m\n",
      "\u001b[1;31mInsufficientFunds\u001b[0m: Balance 844 is less than 33052 (including fee)."
     ]
    }
   ],
   "source": [
    "send_tx(BTCTEST, account, 'mp5cy6Ve1yjn9P3kf1mvzEAfniTEwCDcKu', '0.0001')"
   ]
  },
  {
   "cell_type": "code",
   "execution_count": null,
   "metadata": {},
   "outputs": [],
   "source": []
  }
 ],
 "metadata": {
  "kernelspec": {
   "display_name": "Python [conda env:pyvizenv] *",
   "language": "python",
   "name": "conda-env-pyvizenv-py"
  },
  "language_info": {
   "codemirror_mode": {
    "name": "ipython",
    "version": 3
   },
   "file_extension": ".py",
   "mimetype": "text/x-python",
   "name": "python",
   "nbconvert_exporter": "python",
   "pygments_lexer": "ipython3",
   "version": "3.7.9"
  }
 },
 "nbformat": 4,
 "nbformat_minor": 4
}
